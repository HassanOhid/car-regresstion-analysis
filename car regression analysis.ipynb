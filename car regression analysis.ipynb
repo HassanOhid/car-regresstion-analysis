{
 "cells": [
  {
   "cell_type": "code",
   "execution_count": 10,
   "metadata": {},
   "outputs": [
    {
     "name": "stderr",
     "output_type": "stream",
     "text": [
      "c:\\Python310\\lib\\site-packages\\rdata\\conversion\\_conversion.py:294: UserWarning: Unknown encoding. Assumed ASCII.\n",
      "  warnings.warn(\"Unknown encoding. Assumed ASCII.\")  # noqa: B028\n"
     ]
    },
    {
     "name": "stdout",
     "output_type": "stream",
     "text": [
      "Entries in data: 268255\n",
      "Entries after removing duplicates: 268255\n"
     ]
    }
   ],
   "source": [
    "import os  \n",
    "import rdata\n",
    "import numpy as np\n",
    "import pandas as pd\n",
    "import matplotlib.pyplot as plt\n",
    " \n",
    "%matplotlib inline\n",
    " \n",
    "file_path = r'F:\\car regresstion analysis\\car_ads_fp.RData'\n",
    " \n",
    "if os.path.exists(file_path):\n",
    "    parsed = rdata.parser.parse_file(file_path)\n",
    "    \n",
    "    # Convert the parsed data to a Python-readable format\n",
    "    converted = rdata.conversion.convert(parsed)\n",
    "    \n",
    "    # Extract the specific dataset (assuming it's named 'carAd' in the RDATA file)\n",
    "    if 'carAd' in converted:\n",
    "        raw_data = converted['carAd']\n",
    "        \n",
    "        # Convert to a DataFrame if necessary\n",
    "        if not isinstance(raw_data, pd.DataFrame):\n",
    "            raw_data = pd.DataFrame(raw_data)\n",
    "        \n",
    "        # Now you can work with raw_data\n",
    "        print(\"Entries in data: {}\".format(raw_data['Maker'].count()))\n",
    "        raw_data = raw_data.drop_duplicates()\n",
    "        print(\"Entries after removing duplicates: {}\".format(raw_data['Maker'].count()))\n",
    "    else:\n",
    "        print(\"The dataset 'carAd' was not found in the RDATA file.\")\n",
    "else:\n",
    "    print(f\"File not found: {file_path}\")\n"
   ]
  },
  {
   "cell_type": "code",
   "execution_count": 14,
   "metadata": {},
   "outputs": [
    {
     "name": "stdout",
     "output_type": "stream",
     "text": [
      "     Maker Genmodel Genmodel_ID   Adv_ID  Adv_year  Adv_month   Color  \\\n",
      "1  Bentley   Arnage        10_1  10_1$$1    2018.0        4.0  Silver   \n",
      "2  Bentley   Arnage        10_1  10_1$$2    2018.0        6.0    Grey   \n",
      "3  Bentley   Arnage        10_1  10_1$$3    2017.0       11.0    Blue   \n",
      "5  Bentley   Arnage        10_1  10_1$$5    2017.0       11.0    Grey   \n",
      "6  Bentley   Arnage        10_1  10_1$$6    2017.0       12.0    Blue   \n",
      "\n",
      "   Reg_year Bodytype Runned_Miles Engin_size    Gearbox Fuel_type  Price  \\\n",
      "1    2000.0   Saloon        60000       6.8L  Automatic    Petrol  21500   \n",
      "2    2002.0   Saloon        44000       6.8L  Automatic    Petrol  28750   \n",
      "3    2002.0   Saloon        55000       6.8L  Automatic    Petrol  29999   \n",
      "5    2003.0   Saloon        61652       6.8L  Automatic    Petrol  26555   \n",
      "6    2002.0   Saloon        55000       6.8L  Automatic    Petrol  24950   \n",
      "\n",
      "   Seat_num  Door_num  \n",
      "1       5.0       4.0  \n",
      "2       5.0       4.0  \n",
      "3       5.0       4.0  \n",
      "5       5.0       4.0  \n",
      "6       5.0       4.0  \n"
     ]
    }
   ],
   "source": [
    "top_colors = ['Black', 'Silver', 'Blue', 'Grey', 'White', 'Red']\n",
    "filtered_data = raw_data[raw_data['Color'].isin(top_colors)]\n",
    "print(filtered_data.head())\n"
   ]
  },
  {
   "cell_type": "code",
   "execution_count": 15,
   "metadata": {},
   "outputs": [
    {
     "name": "stdout",
     "output_type": "stream",
     "text": [
      "Number of entries after filtering: 225276\n"
     ]
    }
   ],
   "source": [
    "print(f\"Number of entries after filtering: {filtered_data.shape[0]}\")\n"
   ]
  },
  {
   "cell_type": "code",
   "execution_count": 18,
   "metadata": {},
   "outputs": [
    {
     "data": {
      "text/plain": [
       "Color\n",
       "Black     48751\n",
       "Silver    40214\n",
       "Blue      38376\n",
       "Grey      37678\n",
       "White     34270\n",
       "Red       25987\n",
       "Name: count, dtype: int64"
      ]
     },
     "execution_count": 18,
     "metadata": {},
     "output_type": "execute_result"
    }
   ],
   "source": [
    "raw_data['Color'].value_counts().head(6)"
   ]
  },
  {
   "cell_type": "code",
   "execution_count": 19,
   "metadata": {},
   "outputs": [
    {
     "data": {
      "text/html": [
       "<div>\n",
       "<style scoped>\n",
       "    .dataframe tbody tr th:only-of-type {\n",
       "        vertical-align: middle;\n",
       "    }\n",
       "\n",
       "    .dataframe tbody tr th {\n",
       "        vertical-align: top;\n",
       "    }\n",
       "\n",
       "    .dataframe thead th {\n",
       "        text-align: right;\n",
       "    }\n",
       "</style>\n",
       "<table border=\"1\" class=\"dataframe\">\n",
       "  <thead>\n",
       "    <tr style=\"text-align: right;\">\n",
       "      <th></th>\n",
       "      <th>Maker</th>\n",
       "      <th>Genmodel</th>\n",
       "      <th>Genmodel_ID</th>\n",
       "      <th>Adv_ID</th>\n",
       "      <th>Adv_year</th>\n",
       "      <th>Adv_month</th>\n",
       "      <th>Color</th>\n",
       "      <th>Reg_year</th>\n",
       "      <th>Bodytype</th>\n",
       "      <th>Runned_Miles</th>\n",
       "      <th>Engin_size</th>\n",
       "      <th>Gearbox</th>\n",
       "      <th>Fuel_type</th>\n",
       "      <th>Price</th>\n",
       "      <th>Seat_num</th>\n",
       "      <th>Door_num</th>\n",
       "    </tr>\n",
       "  </thead>\n",
       "  <tbody>\n",
       "    <tr>\n",
       "      <th>1</th>\n",
       "      <td>Bentley</td>\n",
       "      <td>Arnage</td>\n",
       "      <td>10_1</td>\n",
       "      <td>10_1$$1</td>\n",
       "      <td>2018.0</td>\n",
       "      <td>4.0</td>\n",
       "      <td>Silver</td>\n",
       "      <td>2000.0</td>\n",
       "      <td>Saloon</td>\n",
       "      <td>60000</td>\n",
       "      <td>6.8L</td>\n",
       "      <td>Automatic</td>\n",
       "      <td>Petrol</td>\n",
       "      <td>21500</td>\n",
       "      <td>5.0</td>\n",
       "      <td>4.0</td>\n",
       "    </tr>\n",
       "    <tr>\n",
       "      <th>2</th>\n",
       "      <td>Bentley</td>\n",
       "      <td>Arnage</td>\n",
       "      <td>10_1</td>\n",
       "      <td>10_1$$2</td>\n",
       "      <td>2018.0</td>\n",
       "      <td>6.0</td>\n",
       "      <td>Grey</td>\n",
       "      <td>2002.0</td>\n",
       "      <td>Saloon</td>\n",
       "      <td>44000</td>\n",
       "      <td>6.8L</td>\n",
       "      <td>Automatic</td>\n",
       "      <td>Petrol</td>\n",
       "      <td>28750</td>\n",
       "      <td>5.0</td>\n",
       "      <td>4.0</td>\n",
       "    </tr>\n",
       "    <tr>\n",
       "      <th>3</th>\n",
       "      <td>Bentley</td>\n",
       "      <td>Arnage</td>\n",
       "      <td>10_1</td>\n",
       "      <td>10_1$$3</td>\n",
       "      <td>2017.0</td>\n",
       "      <td>11.0</td>\n",
       "      <td>Blue</td>\n",
       "      <td>2002.0</td>\n",
       "      <td>Saloon</td>\n",
       "      <td>55000</td>\n",
       "      <td>6.8L</td>\n",
       "      <td>Automatic</td>\n",
       "      <td>Petrol</td>\n",
       "      <td>29999</td>\n",
       "      <td>5.0</td>\n",
       "      <td>4.0</td>\n",
       "    </tr>\n",
       "    <tr>\n",
       "      <th>4</th>\n",
       "      <td>Bentley</td>\n",
       "      <td>Arnage</td>\n",
       "      <td>10_1</td>\n",
       "      <td>10_1$$4</td>\n",
       "      <td>2018.0</td>\n",
       "      <td>4.0</td>\n",
       "      <td>Green</td>\n",
       "      <td>2003.0</td>\n",
       "      <td>Saloon</td>\n",
       "      <td>14000</td>\n",
       "      <td>6.8L</td>\n",
       "      <td>Automatic</td>\n",
       "      <td>Petrol</td>\n",
       "      <td>34948</td>\n",
       "      <td>5.0</td>\n",
       "      <td>4.0</td>\n",
       "    </tr>\n",
       "    <tr>\n",
       "      <th>5</th>\n",
       "      <td>Bentley</td>\n",
       "      <td>Arnage</td>\n",
       "      <td>10_1</td>\n",
       "      <td>10_1$$5</td>\n",
       "      <td>2017.0</td>\n",
       "      <td>11.0</td>\n",
       "      <td>Grey</td>\n",
       "      <td>2003.0</td>\n",
       "      <td>Saloon</td>\n",
       "      <td>61652</td>\n",
       "      <td>6.8L</td>\n",
       "      <td>Automatic</td>\n",
       "      <td>Petrol</td>\n",
       "      <td>26555</td>\n",
       "      <td>5.0</td>\n",
       "      <td>4.0</td>\n",
       "    </tr>\n",
       "  </tbody>\n",
       "</table>\n",
       "</div>"
      ],
      "text/plain": [
       "     Maker Genmodel Genmodel_ID   Adv_ID  Adv_year  Adv_month   Color  \\\n",
       "1  Bentley   Arnage        10_1  10_1$$1    2018.0        4.0  Silver   \n",
       "2  Bentley   Arnage        10_1  10_1$$2    2018.0        6.0    Grey   \n",
       "3  Bentley   Arnage        10_1  10_1$$3    2017.0       11.0    Blue   \n",
       "4  Bentley   Arnage        10_1  10_1$$4    2018.0        4.0   Green   \n",
       "5  Bentley   Arnage        10_1  10_1$$5    2017.0       11.0    Grey   \n",
       "\n",
       "   Reg_year Bodytype Runned_Miles Engin_size    Gearbox Fuel_type  Price  \\\n",
       "1    2000.0   Saloon        60000       6.8L  Automatic    Petrol  21500   \n",
       "2    2002.0   Saloon        44000       6.8L  Automatic    Petrol  28750   \n",
       "3    2002.0   Saloon        55000       6.8L  Automatic    Petrol  29999   \n",
       "4    2003.0   Saloon        14000       6.8L  Automatic    Petrol  34948   \n",
       "5    2003.0   Saloon        61652       6.8L  Automatic    Petrol  26555   \n",
       "\n",
       "   Seat_num  Door_num  \n",
       "1       5.0       4.0  \n",
       "2       5.0       4.0  \n",
       "3       5.0       4.0  \n",
       "4       5.0       4.0  \n",
       "5       5.0       4.0  "
      ]
     },
     "execution_count": 19,
     "metadata": {},
     "output_type": "execute_result"
    }
   ],
   "source": [
    "##Now that we have the relevant data, let’s start the cleaning process.Let’s take a look at the data first\n",
    "raw_data.head()\n"
   ]
  },
  {
   "cell_type": "markdown",
   "metadata": {},
   "source": [
    "progressively narrowing down my dataset by applying multiple conditions:\n",
    "\n",
    "Filter by Color: Keep only rows with specific colors.\n",
    "Filter by Fuel Type: Keep only rows with specific fuel types.\n",
    "Filter by Body Type: Keep only rows with specific body types.\n",
    "Filter by Model: Keep only rows with specific models."
   ]
  },
  {
   "cell_type": "code",
   "execution_count": null,
   "metadata": {},
   "outputs": [],
   "source": [
    "d1 = raw_data[raw_data['Color'].isin(['Black','Silver','Blue','Grey','White','Red'])]\n",
    "d2 = d1[d1['Fuel_type'].isin(['Petrol','Diesel'])]\n",
    "d3 = d2[d2['Bodytype'].isin(['SUV','Pickup'])]\n",
    "d4 = d3[d3['Genmodel'].isin(['L200','Q3', 'CX-5','XC90'])]\n",
    "raw_data = d4"
   ]
  },
  {
   "cell_type": "code",
   "execution_count": 21,
   "metadata": {},
   "outputs": [
    {
     "data": {
      "text/html": [
       "<div>\n",
       "<style scoped>\n",
       "    .dataframe tbody tr th:only-of-type {\n",
       "        vertical-align: middle;\n",
       "    }\n",
       "\n",
       "    .dataframe tbody tr th {\n",
       "        vertical-align: top;\n",
       "    }\n",
       "\n",
       "    .dataframe thead th {\n",
       "        text-align: right;\n",
       "    }\n",
       "</style>\n",
       "<table border=\"1\" class=\"dataframe\">\n",
       "  <thead>\n",
       "    <tr style=\"text-align: right;\">\n",
       "      <th></th>\n",
       "      <th>Maker</th>\n",
       "      <th>Genmodel</th>\n",
       "      <th>Genmodel_ID</th>\n",
       "      <th>Adv_ID</th>\n",
       "      <th>Adv_year</th>\n",
       "      <th>Adv_month</th>\n",
       "      <th>Color</th>\n",
       "      <th>Reg_year</th>\n",
       "      <th>Bodytype</th>\n",
       "      <th>Runned_Miles</th>\n",
       "      <th>Engin_size</th>\n",
       "      <th>Gearbox</th>\n",
       "      <th>Fuel_type</th>\n",
       "      <th>Price</th>\n",
       "      <th>Seat_num</th>\n",
       "      <th>Door_num</th>\n",
       "    </tr>\n",
       "  </thead>\n",
       "  <tbody>\n",
       "    <tr>\n",
       "      <th>103650</th>\n",
       "      <td>Mazda</td>\n",
       "      <td>CX-5</td>\n",
       "      <td>57_7</td>\n",
       "      <td>57_7$$1</td>\n",
       "      <td>2018.0</td>\n",
       "      <td>7.0</td>\n",
       "      <td>Blue</td>\n",
       "      <td>2013.0</td>\n",
       "      <td>SUV</td>\n",
       "      <td>106980</td>\n",
       "      <td>2.2L</td>\n",
       "      <td>Automatic</td>\n",
       "      <td>Diesel</td>\n",
       "      <td>10500</td>\n",
       "      <td>5.0</td>\n",
       "      <td>5.0</td>\n",
       "    </tr>\n",
       "    <tr>\n",
       "      <th>103651</th>\n",
       "      <td>Mazda</td>\n",
       "      <td>CX-5</td>\n",
       "      <td>57_7</td>\n",
       "      <td>57_7$$2</td>\n",
       "      <td>2018.0</td>\n",
       "      <td>8.0</td>\n",
       "      <td>Blue</td>\n",
       "      <td>2015.0</td>\n",
       "      <td>SUV</td>\n",
       "      <td>29500</td>\n",
       "      <td>2.2L</td>\n",
       "      <td>Manual</td>\n",
       "      <td>Diesel</td>\n",
       "      <td>13995</td>\n",
       "      <td>5.0</td>\n",
       "      <td>5.0</td>\n",
       "    </tr>\n",
       "    <tr>\n",
       "      <th>103652</th>\n",
       "      <td>Mazda</td>\n",
       "      <td>CX-5</td>\n",
       "      <td>57_7</td>\n",
       "      <td>57_7$$3</td>\n",
       "      <td>2018.0</td>\n",
       "      <td>7.0</td>\n",
       "      <td>Black</td>\n",
       "      <td>2016.0</td>\n",
       "      <td>SUV</td>\n",
       "      <td>11388</td>\n",
       "      <td>2.2L</td>\n",
       "      <td>Automatic</td>\n",
       "      <td>Diesel</td>\n",
       "      <td>20995</td>\n",
       "      <td>5.0</td>\n",
       "      <td>5.0</td>\n",
       "    </tr>\n",
       "    <tr>\n",
       "      <th>103653</th>\n",
       "      <td>Mazda</td>\n",
       "      <td>CX-5</td>\n",
       "      <td>57_7</td>\n",
       "      <td>57_7$$4</td>\n",
       "      <td>2018.0</td>\n",
       "      <td>2.0</td>\n",
       "      <td>White</td>\n",
       "      <td>2017.0</td>\n",
       "      <td>SUV</td>\n",
       "      <td>5472</td>\n",
       "      <td>2.2L</td>\n",
       "      <td>Manual</td>\n",
       "      <td>Diesel</td>\n",
       "      <td>23900</td>\n",
       "      <td>5.0</td>\n",
       "      <td>5.0</td>\n",
       "    </tr>\n",
       "    <tr>\n",
       "      <th>103654</th>\n",
       "      <td>Mazda</td>\n",
       "      <td>CX-5</td>\n",
       "      <td>57_7</td>\n",
       "      <td>57_7$$5</td>\n",
       "      <td>2018.0</td>\n",
       "      <td>5.0</td>\n",
       "      <td>White</td>\n",
       "      <td>2017.0</td>\n",
       "      <td>SUV</td>\n",
       "      <td>4500</td>\n",
       "      <td>2.2L</td>\n",
       "      <td>Automatic</td>\n",
       "      <td>Diesel</td>\n",
       "      <td>28990</td>\n",
       "      <td>5.0</td>\n",
       "      <td>5.0</td>\n",
       "    </tr>\n",
       "  </tbody>\n",
       "</table>\n",
       "</div>"
      ],
      "text/plain": [
       "        Maker Genmodel Genmodel_ID   Adv_ID  Adv_year  Adv_month  Color  \\\n",
       "103650  Mazda     CX-5        57_7  57_7$$1    2018.0        7.0   Blue   \n",
       "103651  Mazda     CX-5        57_7  57_7$$2    2018.0        8.0   Blue   \n",
       "103652  Mazda     CX-5        57_7  57_7$$3    2018.0        7.0  Black   \n",
       "103653  Mazda     CX-5        57_7  57_7$$4    2018.0        2.0  White   \n",
       "103654  Mazda     CX-5        57_7  57_7$$5    2018.0        5.0  White   \n",
       "\n",
       "        Reg_year Bodytype Runned_Miles Engin_size    Gearbox Fuel_type  Price  \\\n",
       "103650    2013.0      SUV       106980       2.2L  Automatic    Diesel  10500   \n",
       "103651    2015.0      SUV        29500       2.2L     Manual    Diesel  13995   \n",
       "103652    2016.0      SUV        11388       2.2L  Automatic    Diesel  20995   \n",
       "103653    2017.0      SUV         5472       2.2L     Manual    Diesel  23900   \n",
       "103654    2017.0      SUV         4500       2.2L  Automatic    Diesel  28990   \n",
       "\n",
       "        Seat_num  Door_num  \n",
       "103650       5.0       5.0  \n",
       "103651       5.0       5.0  \n",
       "103652       5.0       5.0  \n",
       "103653       5.0       5.0  \n",
       "103654       5.0       5.0  "
      ]
     },
     "execution_count": 21,
     "metadata": {},
     "output_type": "execute_result"
    }
   ],
   "source": []
  },
  {
   "cell_type": "code",
   "execution_count": 22,
   "metadata": {},
   "outputs": [
    {
     "name": "stdout",
     "output_type": "stream",
     "text": [
      "<class 'pandas.core.frame.DataFrame'>\n",
      "Index: 3391 entries, 103650 to 264902\n",
      "Data columns (total 16 columns):\n",
      " #   Column        Non-Null Count  Dtype  \n",
      "---  ------        --------------  -----  \n",
      " 0   Maker         3391 non-null   string \n",
      " 1   Genmodel      3391 non-null   string \n",
      " 2   Genmodel_ID   3391 non-null   string \n",
      " 3   Adv_ID        3391 non-null   string \n",
      " 4   Adv_year      3391 non-null   float64\n",
      " 5   Adv_month     3391 non-null   float64\n",
      " 6   Color         3391 non-null   object \n",
      " 7   Reg_year      3391 non-null   float64\n",
      " 8   Bodytype      3391 non-null   object \n",
      " 9   Runned_Miles  3391 non-null   object \n",
      " 10  Engin_size    3387 non-null   object \n",
      " 11  Gearbox       3391 non-null   object \n",
      " 12  Fuel_type     3391 non-null   object \n",
      " 13  Price         3391 non-null   string \n",
      " 14  Seat_num      3278 non-null   float64\n",
      " 15  Door_num      3375 non-null   float64\n",
      "dtypes: float64(5), object(6), string(5)\n",
      "memory usage: 450.4+ KB\n"
     ]
    }
   ],
   "source": [
    "raw_data.info()\n"
   ]
  },
  {
   "cell_type": "markdown",
   "metadata": {},
   "source": [
    "Now that we have the relevant data, let’s start the cleaning process.\n",
    "Let’s take a look at the data first"
   ]
  },
  {
   "cell_type": "code",
   "execution_count": 23,
   "metadata": {},
   "outputs": [
    {
     "name": "stdout",
     "output_type": "stream",
     "text": [
      "<class 'pandas.core.frame.DataFrame'>\n",
      "Index: 3391 entries, 103650 to 264902\n",
      "Data columns (total 16 columns):\n",
      " #   Column        Non-Null Count  Dtype  \n",
      "---  ------        --------------  -----  \n",
      " 0   Maker         3391 non-null   string \n",
      " 1   Genmodel      3391 non-null   string \n",
      " 2   Genmodel_ID   3391 non-null   string \n",
      " 3   Adv_ID        3391 non-null   string \n",
      " 4   Adv_year      3391 non-null   float64\n",
      " 5   Adv_month     3391 non-null   float64\n",
      " 6   Color         3391 non-null   object \n",
      " 7   Reg_year      3391 non-null   float64\n",
      " 8   Bodytype      3391 non-null   object \n",
      " 9   Runned_Miles  3391 non-null   object \n",
      " 10  Engin_size    3387 non-null   object \n",
      " 11  Gearbox       3391 non-null   object \n",
      " 12  Fuel_type     3391 non-null   object \n",
      " 13  Price         3391 non-null   string \n",
      " 14  Seat_num      3278 non-null   float64\n",
      " 15  Door_num      3375 non-null   float64\n",
      "dtypes: float64(5), object(6), string(5)\n",
      "memory usage: 450.4+ KB\n"
     ]
    }
   ],
   "source": [
    "raw_data.info()\n"
   ]
  },
  {
   "cell_type": "markdown",
   "metadata": {},
   "source": [
    "Cleaning Data It can be observed that some attributes are not in correct format such as\n",
    "year, month etc.\n",
    "Let’s transform such attributes to the correct format"
   ]
  },
  {
   "cell_type": "code",
   "execution_count": 24,
   "metadata": {},
   "outputs": [
    {
     "ename": "IndentationError",
     "evalue": "expected an indented block after function definition on line 1 (3390624310.py, line 2)",
     "output_type": "error",
     "traceback": [
      "\u001b[1;36m  Cell \u001b[1;32mIn[24], line 2\u001b[1;36m\u001b[0m\n\u001b[1;33m    if None:\u001b[0m\n\u001b[1;37m    ^\u001b[0m\n\u001b[1;31mIndentationError\u001b[0m\u001b[1;31m:\u001b[0m expected an indented block after function definition on line 1\n"
     ]
    }
   ],
   "source": [
    "def make_interger(x):\n",
    "    if None :\n",
    "     return\n",
    "    return int(x)\n"
   ]
  }
 ],
 "metadata": {
  "kernelspec": {
   "display_name": "Python 3",
   "language": "python",
   "name": "python3"
  },
  "language_info": {
   "codemirror_mode": {
    "name": "ipython",
    "version": 3
   },
   "file_extension": ".py",
   "mimetype": "text/x-python",
   "name": "python",
   "nbconvert_exporter": "python",
   "pygments_lexer": "ipython3",
   "version": "3.10.1"
  }
 },
 "nbformat": 4,
 "nbformat_minor": 2
}
